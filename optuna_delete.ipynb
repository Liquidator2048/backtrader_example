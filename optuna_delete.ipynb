{
 "cells": [
  {
   "cell_type": "code",
   "execution_count": 3,
   "metadata": {},
   "outputs": [],
   "source": [
    "import optuna\n",
    "import optuna.storages.rdb.models\n",
    "from optuna.trial import TrialState\n",
    "from optuna import Study\n",
    "import pandas as pd\n",
    "from optuna.storages.rdb.models import TrialModel,StudyModel,TrialParamModel\n",
    "from sqlalchemy import desc\n",
    "from dotenv import load_dotenv, find_dotenv\n",
    "import os\n",
    "\n",
    "from ipywidgets import interact\n",
    "from IPython.display import display"
   ]
  },
  {
   "cell_type": "code",
   "execution_count": 4,
   "metadata": {},
   "outputs": [],
   "source": [
    "load_dotenv(find_dotenv())\n",
    "OPTUNA_STORAGE=os.getenv(\"OPTUNA_STORAGE\", \"sqlite:///data/optuna.db\")"
   ]
  },
  {
   "cell_type": "code",
   "execution_count": 5,
   "metadata": {},
   "outputs": [],
   "source": [
    "storage = optuna.storages.RDBStorage(\n",
    "    OPTUNA_STORAGE,\n",
    "    engine_kwargs={\n",
    "        \"max_overflow\": 0\n",
    "    }\n",
    ")"
   ]
  },
  {
   "cell_type": "code",
   "execution_count": 6,
   "metadata": {},
   "outputs": [
    {
     "data": {
      "text/plain": "['cross-XBTUSD-sharpe_ratio-1h',\n 'mfi-XBTUSD-sharpe_ratio-1h',\n 'st-XBTUSD-sharpe_ratio-1h',\n 'st_plus-XBTUSD-sharpe_ratio-1h']"
     },
     "execution_count": 6,
     "metadata": {},
     "output_type": "execute_result"
    }
   ],
   "source": [
    "study_names = [st.study_name for st in StudyModel.all(storage.scoped_session())]\n",
    "study_names.sort()\n",
    "study_names"
   ]
  },
  {
   "cell_type": "code",
   "execution_count": 7,
   "metadata": {},
   "outputs": [],
   "source": [
    "study_name='st_plus-XBTUSD-sharpe_ratio-1h'\n",
    "\n",
    "optuna.delete_study(study_name=study_name, storage=storage)"
   ]
  },
  {
   "cell_type": "code",
   "execution_count": null,
   "metadata": {},
   "outputs": [],
   "source": []
  }
 ],
 "metadata": {
  "kernelspec": {
   "display_name": "Python 3",
   "language": "python",
   "name": "python3"
  },
  "language_info": {
   "codemirror_mode": {
    "name": "ipython",
    "version": 3
   },
   "file_extension": ".py",
   "mimetype": "text/x-python",
   "name": "python",
   "nbconvert_exporter": "python",
   "pygments_lexer": "ipython3",
   "version": "3.7.3"
  },
  "widgets": {
   "application/vnd.jupyter.widget-state+json": {
    "state": {
     "140717db78cb41049bae559b701cde8e": {
      "model_module": "@jupyter-widgets/controls",
      "model_module_version": "1.5.0",
      "model_name": "DescriptionStyleModel",
      "state": {
       "description_width": ""
      }
     },
     "2294bc0a719e4b65a17bba4e479cfafe": {
      "model_module": "@jupyter-widgets/base",
      "model_module_version": "1.2.0",
      "model_name": "LayoutModel",
      "state": {}
     },
     "2c0c6d43c1364219a3bc854e203992db": {
      "model_module": "@jupyter-widgets/controls",
      "model_module_version": "1.5.0",
      "model_name": "SliderStyleModel",
      "state": {
       "description_width": ""
      }
     },
     "2c1490906c7a4b7eb8590c97a0a6b321": {
      "model_module": "@jupyter-widgets/controls",
      "model_module_version": "1.5.0",
      "model_name": "DropdownModel",
      "state": {
       "_options_labels": [
        "IndicatorsStrategy-1",
        "IndicatorsStrategy-1.1",
        "cross-XBTUSD-sharpe_ratio-1h",
        "cross-none-15m",
        "cross-none-1d",
        "cross-none-1h",
        "cross-none-4h",
        "cross-none-5m",
        "cross-sharpe_ratio-15m",
        "cross-sharpe_ratio-1d",
        "cross-sharpe_ratio-1h",
        "cross-sharpe_ratio-4h",
        "cross-sharpe_ratio-5m",
        "cross-sqn-15m",
        "cross-sqn-1d",
        "cross-sqn-1h",
        "cross-sqn-4h",
        "cross-sqn-5m",
        "cross-vwr-15m",
        "cross-vwr-1d",
        "cross-vwr-1h",
        "cross-vwr-4h",
        "cross-vwr-5m",
        "mfi-XBTUSD-sharpe_ratio-1h",
        "mfi_-XBTUSD-sharpe_ratio-1h",
        "prova-cross",
        "prova-cross-2",
        "st-none-15m",
        "st-none-1d",
        "st-none-1h",
        "st-none-4h",
        "st-none-5m",
        "st-sharpe_ratio-15m",
        "st-sharpe_ratio-1d",
        "st-sharpe_ratio-1h",
        "st-sharpe_ratio-4h",
        "st-sharpe_ratio-5m",
        "st-sqn-15m",
        "st-sqn-1d",
        "st-sqn-1h",
        "st-sqn-4h",
        "st-sqn-5m",
        "st-vwr-15m",
        "st-vwr-1d",
        "st-vwr-1h",
        "st-vwr-4h",
        "st-vwr-5m",
        "stoch-none-15m",
        "stoch-none-1d",
        "stoch-none-1h",
        "stoch-none-4h",
        "stoch-none-5m",
        "stoch-sharpe_ratio-15m",
        "stoch-sharpe_ratio-1d",
        "stoch-sharpe_ratio-1h",
        "stoch-sharpe_ratio-4h",
        "stoch-sharpe_ratio-5m",
        "stoch-sqn-15m",
        "stoch-sqn-1d",
        "stoch-sqn-1h",
        "stoch-sqn-4h",
        "stoch-sqn-5m",
        "stoch-vwr-15m",
        "stoch-vwr-1d",
        "stoch-vwr-1h",
        "stoch-vwr-4h",
        "stoch-vwr-5m",
        "zscore-none-15m",
        "zscore-none-1d",
        "zscore-none-1h",
        "zscore-none-4h",
        "zscore-sharpe_ratio-15m",
        "zscore-sharpe_ratio-1d",
        "zscore-sharpe_ratio-1h",
        "zscore-sharpe_ratio-4h",
        "zscore-sqn-15m",
        "zscore-sqn-1d",
        "zscore-sqn-1h",
        "zscore-sqn-4h",
        "zscore-vwr-15m",
        "zscore-vwr-1d",
        "zscore-vwr-1h",
        "zscore-vwr-4h"
       ],
       "description": "study_name",
       "index": 24,
       "layout": "IPY_MODEL_a5685f619ddb4131bbd4d00f6d495ffa",
       "style": "IPY_MODEL_140717db78cb41049bae559b701cde8e"
      }
     },
     "386899f5e2ca451f9866ca08ae68c093": {
      "model_module": "@jupyter-widgets/controls",
      "model_module_version": "1.5.0",
      "model_name": "IntSliderModel",
      "state": {
       "description": "limit",
       "layout": "IPY_MODEL_2294bc0a719e4b65a17bba4e479cfafe",
       "max": 60,
       "min": -20,
       "style": "IPY_MODEL_2c0c6d43c1364219a3bc854e203992db",
       "value": 20
      }
     },
     "40d7d567722942938c39c200afeeff0d": {
      "model_module": "@jupyter-widgets/base",
      "model_module_version": "1.2.0",
      "model_name": "LayoutModel",
      "state": {}
     },
     "4e33dbf8d5cc4dd3a3d740ac3ed4d59c": {
      "model_module": "@jupyter-widgets/controls",
      "model_module_version": "1.5.0",
      "model_name": "DescriptionStyleModel",
      "state": {
       "description_width": ""
      }
     },
     "4f52020db56d4408bf2b59fc302418de": {
      "model_module": "@jupyter-widgets/base",
      "model_module_version": "1.2.0",
      "model_name": "LayoutModel",
      "state": {}
     },
     "6d3c04f4da5d45bb9a9388830eea0826": {
      "model_module": "@jupyter-widgets/output",
      "model_module_version": "1.0.0",
      "model_name": "OutputModel",
      "state": {
       "layout": "IPY_MODEL_40d7d567722942938c39c200afeeff0d",
       "outputs": [
        {
         "data": {
          "text/html": "<div>\n<style scoped>\n    .dataframe tbody tr th:only-of-type {\n        vertical-align: middle;\n    }\n\n    .dataframe tbody tr th {\n        vertical-align: top;\n    }\n\n    .dataframe thead th {\n        text-align: right;\n    }\n</style>\n<table border=\"1\" class=\"dataframe\">\n  <thead>\n    <tr style=\"text-align: right;\">\n      <th></th>\n      <th>number</th>\n      <th>study_name</th>\n      <th>value</th>\n      <th>state</th>\n      <th>datetime_start</th>\n      <th>datetime_complete</th>\n      <th>stop_loss</th>\n      <th>mfi_length</th>\n      <th>mfi_limit_low</th>\n      <th>mfi_limit_high</th>\n    </tr>\n    <tr>\n      <th>trial_id</th>\n      <th></th>\n      <th></th>\n      <th></th>\n      <th></th>\n      <th></th>\n      <th></th>\n      <th></th>\n      <th></th>\n      <th></th>\n      <th></th>\n    </tr>\n  </thead>\n  <tbody>\n    <tr>\n      <th>1020463</th>\n      <td>4368</td>\n      <td>mfi_-XBTUSD-sharpe_ratio-1h</td>\n      <td>0.073962</td>\n      <td>TrialState.COMPLETE</td>\n      <td>2020-05-19 04:59:14.523128</td>\n      <td>2020-05-19 05:00:42.180277</td>\n      <td>156.0</td>\n      <td>15.0</td>\n      <td>12.0</td>\n      <td>35.0</td>\n    </tr>\n    <tr>\n      <th>1016391</th>\n      <td>2197</td>\n      <td>mfi_-XBTUSD-sharpe_ratio-1h</td>\n      <td>0.073446</td>\n      <td>TrialState.COMPLETE</td>\n      <td>2020-05-18 21:39:26.700782</td>\n      <td>2020-05-18 21:40:22.440529</td>\n      <td>129.0</td>\n      <td>15.0</td>\n      <td>10.0</td>\n      <td>37.0</td>\n    </tr>\n    <tr>\n      <th>1026561</th>\n      <td>5699</td>\n      <td>mfi_-XBTUSD-sharpe_ratio-1h</td>\n      <td>0.073239</td>\n      <td>TrialState.COMPLETE</td>\n      <td>2020-05-19 20:39:54.362363</td>\n      <td>2020-05-19 20:40:46.301584</td>\n      <td>161.0</td>\n      <td>15.0</td>\n      <td>12.0</td>\n      <td>35.0</td>\n    </tr>\n    <tr>\n      <th>1028726</th>\n      <td>7864</td>\n      <td>mfi_-XBTUSD-sharpe_ratio-1h</td>\n      <td>0.072804</td>\n      <td>TrialState.COMPLETE</td>\n      <td>2020-05-20 02:26:36.627263</td>\n      <td>2020-05-20 02:27:31.619233</td>\n      <td>164.0</td>\n      <td>15.0</td>\n      <td>12.0</td>\n      <td>35.0</td>\n    </tr>\n    <tr>\n      <th>1016122</th>\n      <td>2053</td>\n      <td>mfi_-XBTUSD-sharpe_ratio-1h</td>\n      <td>0.072684</td>\n      <td>TrialState.COMPLETE</td>\n      <td>2020-05-18 21:13:18.532867</td>\n      <td>2020-05-18 21:14:13.410127</td>\n      <td>139.0</td>\n      <td>15.0</td>\n      <td>10.0</td>\n      <td>37.0</td>\n    </tr>\n    <tr>\n      <th>1028537</th>\n      <td>7675</td>\n      <td>mfi_-XBTUSD-sharpe_ratio-1h</td>\n      <td>0.072494</td>\n      <td>TrialState.COMPLETE</td>\n      <td>2020-05-20 01:57:37.125308</td>\n      <td>2020-05-20 01:58:29.050179</td>\n      <td>168.0</td>\n      <td>15.0</td>\n      <td>10.0</td>\n      <td>37.0</td>\n    </tr>\n    <tr>\n      <th>1027090</th>\n      <td>6228</td>\n      <td>mfi_-XBTUSD-sharpe_ratio-1h</td>\n      <td>0.072442</td>\n      <td>TrialState.COMPLETE</td>\n      <td>2020-05-19 22:03:10.087607</td>\n      <td>2020-05-19 22:04:07.553047</td>\n      <td>169.0</td>\n      <td>15.0</td>\n      <td>10.0</td>\n      <td>37.0</td>\n    </tr>\n    <tr>\n      <th>1015405</th>\n      <td>1676</td>\n      <td>mfi_-XBTUSD-sharpe_ratio-1h</td>\n      <td>0.072357</td>\n      <td>TrialState.COMPLETE</td>\n      <td>2020-05-18 20:03:09.999543</td>\n      <td>2020-05-18 20:04:12.481764</td>\n      <td>158.0</td>\n      <td>14.0</td>\n      <td>12.0</td>\n      <td>39.0</td>\n    </tr>\n    <tr>\n      <th>1016123</th>\n      <td>2054</td>\n      <td>mfi_-XBTUSD-sharpe_ratio-1h</td>\n      <td>0.072223</td>\n      <td>TrialState.COMPLETE</td>\n      <td>2020-05-18 21:13:27.461394</td>\n      <td>2020-05-18 21:14:24.551152</td>\n      <td>145.0</td>\n      <td>15.0</td>\n      <td>10.0</td>\n      <td>37.0</td>\n    </tr>\n    <tr>\n      <th>1013920</th>\n      <td>975</td>\n      <td>mfi_-XBTUSD-sharpe_ratio-1h</td>\n      <td>0.071951</td>\n      <td>TrialState.COMPLETE</td>\n      <td>2020-05-18 17:33:40.531121</td>\n      <td>2020-05-18 17:34:34.009870</td>\n      <td>160.0</td>\n      <td>16.0</td>\n      <td>13.0</td>\n      <td>33.0</td>\n    </tr>\n    <tr>\n      <th>1020218</th>\n      <td>4237</td>\n      <td>mfi_-XBTUSD-sharpe_ratio-1h</td>\n      <td>0.071497</td>\n      <td>TrialState.COMPLETE</td>\n      <td>2020-05-19 04:28:13.894349</td>\n      <td>2020-05-19 04:29:35.264551</td>\n      <td>162.0</td>\n      <td>15.0</td>\n      <td>10.0</td>\n      <td>36.0</td>\n    </tr>\n    <tr>\n      <th>1029211</th>\n      <td>8349</td>\n      <td>mfi_-XBTUSD-sharpe_ratio-1h</td>\n      <td>0.071494</td>\n      <td>TrialState.COMPLETE</td>\n      <td>2020-05-20 03:43:51.520607</td>\n      <td>2020-05-20 03:44:47.870452</td>\n      <td>175.0</td>\n      <td>15.0</td>\n      <td>10.0</td>\n      <td>38.0</td>\n    </tr>\n    <tr>\n      <th>1015406</th>\n      <td>1677</td>\n      <td>mfi_-XBTUSD-sharpe_ratio-1h</td>\n      <td>0.071407</td>\n      <td>TrialState.COMPLETE</td>\n      <td>2020-05-18 20:03:19.871144</td>\n      <td>2020-05-18 20:04:23.499724</td>\n      <td>157.0</td>\n      <td>15.0</td>\n      <td>12.0</td>\n      <td>38.0</td>\n    </tr>\n    <tr>\n      <th>1030535</th>\n      <td>9673</td>\n      <td>mfi_-XBTUSD-sharpe_ratio-1h</td>\n      <td>0.071352</td>\n      <td>TrialState.COMPLETE</td>\n      <td>2020-05-20 07:05:28.165768</td>\n      <td>2020-05-20 07:06:20.509116</td>\n      <td>174.0</td>\n      <td>15.0</td>\n      <td>12.0</td>\n      <td>35.0</td>\n    </tr>\n    <tr>\n      <th>1018859</th>\n      <td>3515</td>\n      <td>mfi_-XBTUSD-sharpe_ratio-1h</td>\n      <td>0.071130</td>\n      <td>TrialState.COMPLETE</td>\n      <td>2020-05-19 01:45:16.708954</td>\n      <td>2020-05-19 01:46:11.801445</td>\n      <td>149.0</td>\n      <td>15.0</td>\n      <td>12.0</td>\n      <td>35.0</td>\n    </tr>\n    <tr>\n      <th>1026760</th>\n      <td>5898</td>\n      <td>mfi_-XBTUSD-sharpe_ratio-1h</td>\n      <td>0.070992</td>\n      <td>TrialState.COMPLETE</td>\n      <td>2020-05-19 21:10:17.680487</td>\n      <td>2020-05-19 21:11:10.257859</td>\n      <td>144.0</td>\n      <td>15.0</td>\n      <td>10.0</td>\n      <td>36.0</td>\n    </tr>\n    <tr>\n      <th>1016562</th>\n      <td>2289</td>\n      <td>mfi_-XBTUSD-sharpe_ratio-1h</td>\n      <td>0.070962</td>\n      <td>TrialState.COMPLETE</td>\n      <td>2020-05-18 21:56:02.764701</td>\n      <td>2020-05-18 21:57:05.322964</td>\n      <td>158.0</td>\n      <td>15.0</td>\n      <td>12.0</td>\n      <td>37.0</td>\n    </tr>\n    <tr>\n      <th>1028584</th>\n      <td>7722</td>\n      <td>mfi_-XBTUSD-sharpe_ratio-1h</td>\n      <td>0.070878</td>\n      <td>TrialState.COMPLETE</td>\n      <td>2020-05-20 02:04:37.921921</td>\n      <td>2020-05-20 02:05:31.146852</td>\n      <td>174.0</td>\n      <td>15.0</td>\n      <td>10.0</td>\n      <td>36.0</td>\n    </tr>\n    <tr>\n      <th>1029485</th>\n      <td>8623</td>\n      <td>mfi_-XBTUSD-sharpe_ratio-1h</td>\n      <td>0.070670</td>\n      <td>TrialState.COMPLETE</td>\n      <td>2020-05-20 04:27:49.739824</td>\n      <td>2020-05-20 04:28:42.875160</td>\n      <td>178.0</td>\n      <td>15.0</td>\n      <td>10.0</td>\n      <td>36.0</td>\n    </tr>\n    <tr>\n      <th>1015518</th>\n      <td>1735</td>\n      <td>mfi_-XBTUSD-sharpe_ratio-1h</td>\n      <td>0.070650</td>\n      <td>TrialState.COMPLETE</td>\n      <td>2020-05-18 20:13:27.369322</td>\n      <td>2020-05-18 20:14:26.760082</td>\n      <td>156.0</td>\n      <td>14.0</td>\n      <td>12.0</td>\n      <td>38.0</td>\n    </tr>\n  </tbody>\n</table>\n</div>",
          "text/plain": "          number                   study_name  ...  mfi_limit_low mfi_limit_high\ntrial_id                                       ...                              \n1020463     4368  mfi_-XBTUSD-sharpe_ratio-1h  ...           12.0           35.0\n1016391     2197  mfi_-XBTUSD-sharpe_ratio-1h  ...           10.0           37.0\n1026561     5699  mfi_-XBTUSD-sharpe_ratio-1h  ...           12.0           35.0\n1028726     7864  mfi_-XBTUSD-sharpe_ratio-1h  ...           12.0           35.0\n1016122     2053  mfi_-XBTUSD-sharpe_ratio-1h  ...           10.0           37.0\n1028537     7675  mfi_-XBTUSD-sharpe_ratio-1h  ...           10.0           37.0\n1027090     6228  mfi_-XBTUSD-sharpe_ratio-1h  ...           10.0           37.0\n1015405     1676  mfi_-XBTUSD-sharpe_ratio-1h  ...           12.0           39.0\n1016123     2054  mfi_-XBTUSD-sharpe_ratio-1h  ...           10.0           37.0\n1013920      975  mfi_-XBTUSD-sharpe_ratio-1h  ...           13.0           33.0\n1020218     4237  mfi_-XBTUSD-sharpe_ratio-1h  ...           10.0           36.0\n1029211     8349  mfi_-XBTUSD-sharpe_ratio-1h  ...           10.0           38.0\n1015406     1677  mfi_-XBTUSD-sharpe_ratio-1h  ...           12.0           38.0\n1030535     9673  mfi_-XBTUSD-sharpe_ratio-1h  ...           12.0           35.0\n1018859     3515  mfi_-XBTUSD-sharpe_ratio-1h  ...           12.0           35.0\n1026760     5898  mfi_-XBTUSD-sharpe_ratio-1h  ...           10.0           36.0\n1016562     2289  mfi_-XBTUSD-sharpe_ratio-1h  ...           12.0           37.0\n1028584     7722  mfi_-XBTUSD-sharpe_ratio-1h  ...           10.0           36.0\n1029485     8623  mfi_-XBTUSD-sharpe_ratio-1h  ...           10.0           36.0\n1015518     1735  mfi_-XBTUSD-sharpe_ratio-1h  ...           12.0           38.0\n\n[20 rows x 10 columns]"
         },
         "metadata": {},
         "output_type": "display_data"
        }
       ]
      }
     },
     "7b987af8dcc345c6a5f1a6db71af1fa0": {
      "model_module": "@jupyter-widgets/controls",
      "model_module_version": "1.5.0",
      "model_name": "VBoxModel",
      "state": {
       "_dom_classes": [
        "widget-interact"
       ],
       "children": [
        "IPY_MODEL_2c1490906c7a4b7eb8590c97a0a6b321",
        "IPY_MODEL_c4452c4f90a24549ad64015c138aea59",
        "IPY_MODEL_386899f5e2ca451f9866ca08ae68c093",
        "IPY_MODEL_6d3c04f4da5d45bb9a9388830eea0826"
       ],
       "layout": "IPY_MODEL_be975cd193d1418199bb2d424629f719"
      }
     },
     "a5685f619ddb4131bbd4d00f6d495ffa": {
      "model_module": "@jupyter-widgets/base",
      "model_module_version": "1.2.0",
      "model_name": "LayoutModel",
      "state": {}
     },
     "be975cd193d1418199bb2d424629f719": {
      "model_module": "@jupyter-widgets/base",
      "model_module_version": "1.2.0",
      "model_name": "LayoutModel",
      "state": {}
     },
     "c4452c4f90a24549ad64015c138aea59": {
      "model_module": "@jupyter-widgets/controls",
      "model_module_version": "1.5.0",
      "model_name": "DropdownModel",
      "state": {
       "_options_labels": [
        "TrialState.COMPLETE",
        "TrialState.RUNNING",
        "TrialState.PRUNED",
        "TrialState.FAIL",
        "TrialState.WAITING"
       ],
       "description": "state",
       "index": 0,
       "layout": "IPY_MODEL_4f52020db56d4408bf2b59fc302418de",
       "style": "IPY_MODEL_4e33dbf8d5cc4dd3a3d740ac3ed4d59c"
      }
     }
    },
    "version_major": 2,
    "version_minor": 0
   }
  }
 },
 "nbformat": 4,
 "nbformat_minor": 4
}