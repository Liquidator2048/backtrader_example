{
 "cells": [
  {
   "cell_type": "code",
   "execution_count": 1,
   "metadata": {},
   "outputs": [],
   "source": [
    "import os\n",
    "from typing import List\n",
    "\n",
    "import optuna.storages.rdb.models\n",
    "import pandas as pd\n",
    "from dotenv import load_dotenv, find_dotenv\n",
    "from ipywidgets import interact, IntSlider\n",
    "from optuna.storages.rdb.models import TrialModel, StudyModel, TrialParamModel\n",
    "from optuna.trial import TrialState\n",
    "from sqlalchemy import desc\n",
    "import json"
   ]
  },
  {
   "cell_type": "markdown",
   "metadata": {},
   "source": [
    "configurazione dello storage usato per salvare le ottimizzazioni"
   ]
  },
  {
   "cell_type": "code",
   "execution_count": 2,
   "metadata": {},
   "outputs": [],
   "source": [
    "load_dotenv(find_dotenv())\n",
    "OPTUNA_STORAGE=os.getenv(\"OPTUNA_STORAGE\", \"sqlite:///data/optuna.db\")"
   ]
  },
  {
   "cell_type": "code",
   "execution_count": 3,
   "metadata": {},
   "outputs": [],
   "source": [
    "storage = optuna.storages.RDBStorage(\n",
    "    OPTUNA_STORAGE,\n",
    "    engine_kwargs={\n",
    "        \"max_overflow\": 0\n",
    "    }\n",
    ")"
   ]
  },
  {
   "cell_type": "code",
   "execution_count": 4,
   "metadata": {},
   "outputs": [],
   "source": [
    "def trials_to_df(trials:List[TrialModel], param_names):\n",
    "    data = []\n",
    "    for t in trials:\n",
    "        d = [\n",
    "            t.trial_id,\n",
    "            t.number,\n",
    "            t.study.study_name,\n",
    "            t.value,\n",
    "            {a.key: json.loads(a.value_json) for a in t.user_attributes},\n",
    "            #t.state,\n",
    "            #t.datetime_start,\n",
    "            #t.datetime_complete,\n",
    "        ]\n",
    "        params = { p.param_name: p.param_value for p in t.params }\n",
    "        for pn in param_names:\n",
    "            d.append(params.get(pn, None))\n",
    "        data.append(d)\n",
    "    \n",
    "    columns = [\n",
    "        'trial_id', 'number', 'study_name', 'value', 'user_attributes',\n",
    "        #'state', 'datetime_start', 'datetime_complete', \n",
    "    ] + param_names\n",
    "    \n",
    "    df = pd.DataFrame(data, columns=columns)\n",
    "    df.set_index('trial_id', inplace=True)\n",
    "    return df"
   ]
  },
  {
   "cell_type": "markdown",
   "metadata": {},
   "source": [
    "interrogazione interattiva dei risultati delle ottimizzazioni"
   ]
  },
  {
   "cell_type": "code",
   "execution_count": 8,
   "metadata": {},
   "outputs": [
    {
     "data": {
      "application/javascript": [
       "IPython.OutputArea.prototype._should_scroll = function(lines) {\n",
       "    return false;\n",
       "}\n"
      ],
      "text/plain": [
       "<IPython.core.display.Javascript object>"
      ]
     },
     "metadata": {},
     "output_type": "display_data"
    }
   ],
   "source": [
    "%%javascript\n",
    "IPython.OutputArea.prototype._should_scroll = function(lines) { return false; }"
   ]
  },
  {
   "cell_type": "code",
   "execution_count": 19,
   "metadata": {},
   "outputs": [
    {
     "data": {
      "application/vnd.jupyter.widget-view+json": {
       "model_id": "f566a4cf610d47168fa6bc188de9a722",
       "version_major": 2,
       "version_minor": 0
      },
      "text/plain": [
       "interactive(children=(Dropdown(description='study_name', options=('cross-XBTUSD-sharpe_ratio-1h', 'ema_splope-…"
      ]
     },
     "metadata": {},
     "output_type": "display_data"
    }
   ],
   "source": [
    "study_names = [st.study_name for st in StudyModel.all(storage.scoped_session())]\n",
    "study_names.sort()\n",
    "states = [\n",
    "    TrialState.COMPLETE,\n",
    "    TrialState.RUNNING,\n",
    "    TrialState.PRUNED,\n",
    "    TrialState.FAIL,\n",
    "    TrialState.WAITING\n",
    "]\n",
    "session = storage.scoped_session()\n",
    "\n",
    "\n",
    "def get_study_params(session, study_id):\n",
    "    params = session.query(TrialParamModel.param_name)\\\n",
    "        .join(TrialModel)\\\n",
    "        .filter(TrialModel.study_id == study_id)\\\n",
    "        .distinct()\\\n",
    "        .all()\n",
    "    return [ p[0] for p in params ]\n",
    "\n",
    "\n",
    "@interact(limit=IntSlider(min=0, max=200, step=1, value=20))\n",
    "def show_results(study_name=study_names, state=states, limit=20):\n",
    "    \n",
    "    with pd.option_context(\"display.max_rows\", limit, 'display.column_space', 2):\n",
    "        study_id = StudyModel.find_by_name(session=session, study_name=study_name).study_id\n",
    "        trials = session.query(TrialModel)\\\n",
    "            .filter(TrialModel.study_id == study_id)\\\n",
    "            .filter(TrialModel.state == state)\\\n",
    "            .order_by(desc(TrialModel.value))\\\n",
    "            .limit(limit)\\\n",
    "            .all()\n",
    "        params = get_study_params(session, study_id)\n",
    "        df = trials_to_df(trials, params)\n",
    "        display(df.sort_values('value', ascending=False))"
   ]
  },
  {
   "cell_type": "code",
   "execution_count": 7,
   "metadata": {},
   "outputs": [
    {
     "data": {
      "application/javascript": [
       "IPython.OutputArea.prototype._should_scroll = function(lines) {\n",
       "    return false;\n",
       "}\n"
      ],
      "text/plain": [
       "<IPython.core.display.Javascript object>"
      ]
     },
     "metadata": {},
     "output_type": "display_data"
    }
   ],
   "source": []
  },
  {
   "cell_type": "code",
   "execution_count": null,
   "metadata": {},
   "outputs": [],
   "source": []
  },
  {
   "cell_type": "code",
   "execution_count": null,
   "metadata": {},
   "outputs": [],
   "source": []
  },
  {
   "cell_type": "code",
   "execution_count": null,
   "metadata": {},
   "outputs": [],
   "source": []
  }
 ],
 "metadata": {
  "kernelspec": {
   "display_name": "Python 3",
   "language": "python",
   "name": "python3"
  },
  "language_info": {
   "codemirror_mode": {
    "name": "ipython",
    "version": 3
   },
   "file_extension": ".py",
   "mimetype": "text/x-python",
   "name": "python",
   "nbconvert_exporter": "python",
   "pygments_lexer": "ipython3",
   "version": "3.7.3"
  }
 },
 "nbformat": 4,
 "nbformat_minor": 4
}
